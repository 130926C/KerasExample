{
 "cells": [
  {
   "cell_type": "markdown",
   "metadata": {},
   "source": [
    "# Classification using Attention-based Deep Multiple Instance Learning (MIL).\n",
    "### 基于注意力机制的多示例学习"
   ]
  },
  {
   "cell_type": "markdown",
   "metadata": {},
   "source": [
    "原文链接：https://keras.io/examples/vision/attention_mil_classification/"
   ]
  },
  {
   "cell_type": "markdown",
   "metadata": {},
   "source": [
    "## Note：  \n",
    "\n",
    "这是多示例学习中非常简单且易懂的例子，代码短小精悍并且有很多注释，能让没接触过的人也可以快速了解多示例学习的步骤。  \n",
    "\n",
    "简单来说多示例学习的需求背景是：数据集是由“包”（bag）组成，每个包中元素个数不确定，只要目标元素在某个包中就是 “正包”，反之为 “负包”。在下面例子中，假设元素 “1” 是目标元素，那么正负包分别为：  \n",
    "\n",
    "```python\n",
    "a = [1,2,3,4,5]     正包\n",
    "b = [0,1,0,1]       正包\n",
    "c = [9,7,8,6]       负包\n",
    "d = []              负包\n",
    "```\n",
    "\n",
    "此处非常推荐知乎博主 “新元”的博客 [Multi-Instance Learning（多示例学习）](https://zhuanlan.zhihu.com/p/438169271)作为最简单的概念入门。  \n",
    "\n"
   ]
  },
  {
   "cell_type": "markdown",
   "metadata": {},
   "source": [
    "--------------"
   ]
  },
  {
   "cell_type": "markdown",
   "metadata": {},
   "source": [
    "## Introduction\n",
    "### What is Multiple Instance Learning (MIL)?\n"
   ]
  },
  {
   "cell_type": "markdown",
   "metadata": {},
   "source": []
  }
 ],
 "metadata": {
  "language_info": {
   "name": "python"
  },
  "orig_nbformat": 4
 },
 "nbformat": 4,
 "nbformat_minor": 2
}
