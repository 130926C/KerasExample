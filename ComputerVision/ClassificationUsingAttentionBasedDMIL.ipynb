{
 "cells": [
  {
   "cell_type": "markdown",
   "metadata": {},
   "source": [
    "# Classification using Attention-based Deep Multiple Instance Learning (MIL).\n",
    "### 基于注意力机制的多示例学习"
   ]
  },
  {
   "cell_type": "markdown",
   "metadata": {},
   "source": [
    "原文链接：https://keras.io/examples/vision/attention_mil_classification/"
   ]
  },
  {
   "cell_type": "markdown",
   "metadata": {},
   "source": [
    "## Note：  \n",
    "\n",
    "这是多示例学习中非常简单且易懂的例子，代码短小精悍并且有很多注释，能让没接触过的人也可以快速了解多示例学习的步骤。  \n",
    "\n",
    "简单来说多示例学习的需求背景是：数据集是由“包”（bag）组成，每个包中元素个数不确定，只要目标元素在某个包中就是 “正包”，反之为 “负包”。在下面例子中，假设元素 “1” 是目标元素，那么正负包分别为：  \n",
    "\n",
    "```python\n",
    "a = [1,2,3,4,5]     正包\n",
    "b = [0,1,0,1]       正包\n",
    "c = [9,7,8,6]       负包\n",
    "d = []              负包\n",
    "```\n",
    "\n",
    "此处非常推荐知乎博主 “新元”的博客 [Multi-Instance Learning（多示例学习）](https://zhuanlan.zhihu.com/p/438169271)作为最简单的概念入门。  \n",
    "\n",
    "\n",
    "至此，有人可能会问：为啥不直接扫描每个包然后判断其存在与否将包分为正负样本呢？而且即便是多示例学习也是需要对每个包进行计算的，这两者有什么区别？  \n",
    "\n",
    "如果能提出这个问题，说明你善于思考。确实，多示例学习的确需要对每个包进行扫描，但上面的例子仅仅是这个框架的一个入门介绍。实际上多示例学习最初的应用背景是在药物上。  \n",
    "\n",
    "药物分子依附在蛋白质上才会起作用，一个蛋白质有多个位点可以吸附多种蛋白，假设现在有四种药物ABCD吸附在蛋白质展开而成的肽链上，列出以下几种可能的吸附情况：\n",
    "```python\n",
    "AAABCDA     有效\n",
    "CAABCDACB   有效\n",
    "DABCBAACB   无效\n",
    "BCBAADCB    有效\n",
    "```\n",
    "从上面能够发现貌似只要包含两个及两个以上的 “AA” 就可以使得药物有效，但第三个样本中却无效，貌似没有一个特别明显的判断方案。这才是多示例学习需要解决的问题，因为在上述案例中包内元素的有无和位置都会决定这个包是一个正包还是一个负包。  \n",
    "\n",
    "下面这个图来自于图像多示例学习的经典论文 [Multiple Instance Learning Convolutional Neural Networks for Object Recognition](extension://bfdogplmndidlpjfhoijckpakkdjkkil/pdf/viewer.html?file=https%3A%2F%2Farxiv.org%2Fpdf%2F1610.03155.pdf) （2016）.\n",
    "\n",
    "<img src='../images/CV_Img/MILsample.png'>  \n",
    "\n",
    "将图像拆成多个小块，然后判断每个小块中包含的核心元素是什么。第一张图以灰蝶（Lycaenid）为判断依据，第二张图则以乒乓球（Ping-pong ball）为依据。根据核心元素的存在与否来实现图像分类任务。  \n",
    "\n",
    "从这个图像分类多示例中能发现一股 ViT（2020） 的味道，也许Vit在构建的时候也参考了这篇文章的思想。"
   ]
  },
  {
   "cell_type": "markdown",
   "metadata": {},
   "source": [
    "--------------"
   ]
  },
  {
   "cell_type": "markdown",
   "metadata": {},
   "source": [
    "## Introduction\n",
    "### What is Multiple Instance Learning (MIL)?\n",
    "Usually, with supervised learning algorithms, the learner receives labels for a set of instances. In the case of MIL, the learner receives labels for a set of bags, each of which contains a set of instances. The bag is labeled positive if it contains at least one positive instance, and negative if it does not contain any.  \n",
    "通常，在监督学习任务中使用的是一组有实例的标签。而在多示例下，会受到一组包的标签，每个包都包含一组实例。如果一个包中至少存在一个正实例，那么该包则为正样本；如果包不含任何实例，那么该包则为负样本。"
   ]
  },
  {
   "cell_type": "markdown",
   "metadata": {},
   "source": [
    "### Motivation\n",
    "It is often assumed in image classification tasks that each image clearly represents a class label. In medical imaging (e.g. computational pathology, etc.) an entire image is represented by a single class label (cancerous/non-cancerous) or a region of interest could be given. However, one will be interested in knowing which patterns in the image is actually causing it to belong to that class. In this context, the image(s) will be divided and the subimages will form the bag of instances.  \n",
    "在图像分类任务中，通常假设每张图像清楚地代表一个类别标签。在医学影像中，整个图像由单个类别标签（癌/非癌）表示，或者框出感兴趣的区域。但是，人们会思考图像中的哪些内容决定了该图所属的类别，在这种情况下，将图像分割成子图，由子图形成实例包。  \n",
    "\n",
    "此时，目标变成：  \n",
    "1. 训练一个模型来预测一个包的标签。\n",
    "2. 找出包中哪些实例作用于标签预测。\n",
    "\n",
    "### Implementation\n",
    "以下步骤描述了模型的工作原理：  \n",
    "1. 特征提取器抽取特征。\n",
    "2. 特征被输入MIL注意力层以获得注意力分数，同时该层是 **permutation-invariant** （置换不变），即调整输入顺序结果保持不变。\n",
    "3. 特征和注意力分数相乘。\n",
    "4. 输出结构传递给softmax进行分类。\n",
    "\n",
    "### References\n",
    "* [Attention-based Deep Multiple Instance Learning.](https://arxiv.org/abs/1802.04712)\n",
    "* Some of the attention operator code implementation was inspired from https://github.com/utayao/Atten_Deep_MIL.\n",
    "* Imbalanced data [tutorial](https://www.tensorflow.org/tutorials/structured_data/imbalanced_data) by TensorFlow."
   ]
  },
  {
   "cell_type": "markdown",
   "metadata": {},
   "source": [
    "-------------"
   ]
  },
  {
   "cell_type": "markdown",
   "metadata": {},
   "source": [
    "## Step"
   ]
  },
  {
   "cell_type": "code",
   "execution_count": 1,
   "metadata": {},
   "outputs": [],
   "source": [
    "import numpy as np\n",
    "import tensorflow as tf\n",
    "from tensorflow import keras\n",
    "from tensorflow.keras import layers\n",
    "from tqdm import tqdm\n",
    "from matplotlib import pyplot as plt"
   ]
  },
  {
   "cell_type": "markdown",
   "metadata": {},
   "source": [
    "----------"
   ]
  },
  {
   "cell_type": "markdown",
   "metadata": {},
   "source": [
    "## Create dataset\n",
    "We will create a set of bags and assign their labels according to their contents. If at least one positive instance is available in a bag, the bag is considered as a positive bag. If it does not contain any positive instance, the bag will be considered as negative.  \n",
    "创建一组bag并根据其中内容分配标签。如果包中至少有一个正样本则该包为正包，否则为负包。"
   ]
  },
  {
   "cell_type": "markdown",
   "metadata": {},
   "source": [
    "### Configuration parameters\n",
    "* POSITIVE_CLASS: 正包中的实例类。\n",
    "* BAG_COUNT: 训练集的包数。\n",
    "* VAL_BAG_COUNT: 验证集的包数。\n",
    "* BAG_SIZE: 每个包的实例个数。\n",
    "* PLOT_SIZE: 绘图时展示的包数。\n",
    "* ENSEMBLE_AVG_COUNT: 平均需要创建的模型数量。(如果只需要一个模型则设置为1)"
   ]
  },
  {
   "cell_type": "code",
   "execution_count": 2,
   "metadata": {},
   "outputs": [],
   "source": [
    "POSITIVE_CLASS = 1  # 在此处就是数字为“1”的图像，如果修改为2则为包含“2”的实例为正包\n",
    "BAG_COUNT = 1000\n",
    "VAL_BAG_COUNT = 300\n",
    "BAG_SIZE = 3\n",
    "PLOT_SIZE = 3\n",
    "ENSEMBLE_AVG_COUNT = 1"
   ]
  },
  {
   "cell_type": "markdown",
   "metadata": {},
   "source": [
    "### Prepare bags\n",
    "Since the attention operator is a permutation-invariant operator, an instance with a positive class label is randomly placed among the instances in the positive bag.  \n",
    "由于注意力算子是一个置换不变的算子，将一个正标签的实例随机放在包中触发包的正标签。"
   ]
  },
  {
   "cell_type": "code",
   "execution_count": 3,
   "metadata": {},
   "outputs": [],
   "source": [
    "def create_bags(input_data, input_labels, positive_class, bag_count, instance_count):\n",
    "    bags = []\n",
    "    bag_labels = []\n",
    "    # 标准化输入\n",
    "    input_data = np.divide(input_data, 255.0)\n",
    "    # 正包数\n",
    "    count = 0\n",
    "\n",
    "    for _ in range(bag_count):\n",
    "        # 选择一个固定大小的随机样本子集\n",
    "        index = np.random.choice(input_data.shape[0], instance_count, replace=False)\n",
    "        instances_data = input_data[index]\n",
    "        instances_labels = input_labels[index]\n",
    "\n",
    "        # 初始时所有包的标签都为负（0）\n",
    "        bag_label = 0\n",
    "        # 检查包中是否包含至少一个正样本\n",
    "        if positive_class in instances_labels:\n",
    "            # 存在则将包标签改为正（1）\n",
    "            bag_label = 1\n",
    "            count += 1\n",
    "        bags.append(instances_data)\n",
    "        bag_labels.append(np.array([bag_label]))\n",
    "\n",
    "    print(f\"Positive bags: {count}\")\n",
    "    print(f\"Negative bags: {bag_count - count}\")\n",
    "    return (list(np.swapaxes(bags, 0, 1)), np.array(bag_labels))"
   ]
  },
  {
   "cell_type": "code",
   "execution_count": 4,
   "metadata": {},
   "outputs": [
    {
     "name": "stdout",
     "output_type": "stream",
     "text": [
      "Positive bags: 337\n",
      "Negative bags: 663\n",
      "Positive bags: 79\n",
      "Negative bags: 221\n"
     ]
    }
   ],
   "source": [
    "# 使用MNIST数据集\n",
    "(x_train, y_train), (x_val, y_val) = keras.datasets.mnist.load_data()\n",
    "# 创造训练集\n",
    "train_data, train_labels = create_bags(\n",
    "    x_train, y_train, POSITIVE_CLASS, BAG_COUNT, BAG_SIZE\n",
    ")\n",
    "# 创造验证集\n",
    "val_data, val_labels = create_bags(\n",
    "    x_val, y_val, POSITIVE_CLASS, VAL_BAG_COUNT, BAG_SIZE\n",
    ")"
   ]
  },
  {
   "cell_type": "markdown",
   "metadata": {},
   "source": [
    "---------------"
   ]
  },
  {
   "cell_type": "markdown",
   "metadata": {},
   "source": [
    "## Create the model\n",
    "We will now build the attention layer, prepare some utilities, then build and train the entire model.  \n",
    "搭建注意力层、准备一些辅助函数、构建和训练模型。\n",
    "\n",
    "\n",
    "### Attention operator implementation 注意力算子的实现\n",
    "The output size of this layer is decided by the size of a single bag.  \n",
    "该层的输出大小由单个包的大小决定。  \n",
    "\n",
    "The attention mechanism uses a weighted average of instances in a bag, in which the sum of the weights must equal to 1 (invariant of the bag size).  \n",
    "注意力机制使用包中实例（特征）的加权平均值，其中权重和必须等于1（固定包大小）。  \n",
    "\n",
    "The weight matrices (parameters) are w and v. To include positive and negative values, hyperbolic tangent element-wise non-linearity is utilized.  \n",
    "权重矩阵是w和v。为了让权重的值域能够包含正负值，使用双曲正切函数（tanh）作为激活函数。  \n",
    "\n",
    "A Gated attention mechanism can be used to deal with complex relations. Another weight matrix, u, is added to the computation. A sigmoid non-linearity is used to overcome approximately linear behavior for x ∈ [−1, 1] by hyperbolic tangent non-linearity.  \n",
    "门控注意力机制能够用于处理复杂的对应关系。引入另一个权重矩阵u。使用sigmoid函数将tanh输出值控制在 [-1, 1]之内。"
   ]
  },
  {
   "cell_type": "code",
   "execution_count": 5,
   "metadata": {},
   "outputs": [],
   "source": [
    "class MILAttentionLayer(layers.Layer):\n",
    "    \"\"\"Implementation of the attention-based Deep MIL layer.\n",
    "\n",
    "    Args:\n",
    "      weight_params_dim: 正整数，权重矩阵w的维度。\n",
    "      kernel_initializer: 核初始化方案。\n",
    "      kernel_regularizer: 核正则化方案。\n",
    "      use_gated: 布尔值，控制是否使用门控机制。\n",
    "\n",
    "    Returns:\n",
    "      List of 2D tensors with BAG_SIZE length. \n",
    "      一个BAG_SIZE大小的二维张量列表。\n",
    "      The tensors are the attention scores after softmax with shape `(batch_size, 1)`.\n",
    "      该张量是经过softmax之后的注意力分数，shape=(batch_size,1)\n",
    "    \"\"\"\n",
    "\n",
    "    def __init__(\n",
    "        self,\n",
    "        weight_params_dim,\n",
    "        kernel_initializer=\"glorot_uniform\",\n",
    "        kernel_regularizer=None,\n",
    "        use_gated=False,\n",
    "        **kwargs,\n",
    "    ):\n",
    "\n",
    "        super().__init__(**kwargs)\n",
    "\n",
    "        self.weight_params_dim = weight_params_dim\n",
    "        self.use_gated = use_gated\n",
    "\n",
    "        self.kernel_initializer = keras.initializers.get(kernel_initializer)\n",
    "        self.kernel_regularizer = keras.regularizers.get(kernel_regularizer)\n",
    "\n",
    "        self.v_init = self.kernel_initializer\n",
    "        self.w_init = self.kernel_initializer\n",
    "        self.u_init = self.kernel_initializer\n",
    "\n",
    "        self.v_regularizer = self.kernel_regularizer\n",
    "        self.w_regularizer = self.kernel_regularizer\n",
    "        self.u_regularizer = self.kernel_regularizer\n",
    "\n",
    "    def build(self, input_shape):  # shape=(batch_size, input_dim)\n",
    "        input_dim = input_shape[0][1]\n",
    "\n",
    "        self.v_weight_params = self.add_weight(\n",
    "            shape=(input_dim, self.weight_params_dim),\n",
    "            initializer=self.v_init,\n",
    "            name=\"v\",\n",
    "            regularizer=self.v_regularizer,\n",
    "            trainable=True,\n",
    "        )\n",
    "\n",
    "        self.w_weight_params = self.add_weight(\n",
    "            shape=(self.weight_params_dim, 1),\n",
    "            initializer=self.w_init,\n",
    "            name=\"w\",\n",
    "            regularizer=self.w_regularizer,\n",
    "            trainable=True,\n",
    "        )\n",
    "\n",
    "        if self.use_gated:\n",
    "            self.u_weight_params = self.add_weight(\n",
    "                shape=(input_dim, self.weight_params_dim),\n",
    "                initializer=self.u_init,\n",
    "                name=\"u\",\n",
    "                regularizer=self.u_regularizer,\n",
    "                trainable=True,\n",
    "            )\n",
    "        else:\n",
    "            self.u_weight_params = None\n",
    "\n",
    "        self.input_built = True\n",
    "\n",
    "    def call(self, inputs):\n",
    "        # Assigning variables from the number of inputs. 根据输入的大小分配数量\n",
    "        instances = [self.compute_attention_scores(instance) for instance in inputs]\n",
    "        # 使用softmax将总和控制在1\n",
    "        alpha = tf.math.softmax(instances, axis=0)\n",
    "        return [alpha[i] for i in range(alpha.shape[0])]\n",
    "\n",
    "    def compute_attention_scores(self, instance):\n",
    "        original_instance = instance\n",
    "        # tanh(v*h_k^T)\n",
    "        instance = tf.math.tanh(tf.tensordot(instance, self.v_weight_params, axes=1))\n",
    "        # 门控机制用于学习非线性关系\n",
    "        if self.use_gated:\n",
    "            instance = instance * tf.math.sigmoid(\n",
    "                tf.tensordot(original_instance, self.u_weight_params, axes=1)\n",
    "            )\n",
    "        # w^T*(tanh(v*h_k^T)) / w^T*(tanh(v*h_k^T)*sigmoid(u*h_k^T))\n",
    "        return tf.tensordot(instance, self.w_weight_params, axes=1)"
   ]
  },
  {
   "cell_type": "markdown",
   "metadata": {},
   "source": [
    "--------"
   ]
  },
  {
   "cell_type": "markdown",
   "metadata": {},
   "source": [
    "## Visualizer tool"
   ]
  },
  {
   "cell_type": "code",
   "execution_count": 6,
   "metadata": {},
   "outputs": [],
   "source": [
    "def plot(data, labels, bag_class, predictions=None, attention_weights=None):\n",
    "    \"\"\"\"Utility for plotting bags and attention weights.\n",
    "\n",
    "    Args:\n",
    "      data: 包输入。\n",
    "      labels: 包对应的标签。\n",
    "      bag_class: 包类别，仅限“正包”、“负包”。\n",
    "      predictions: 模型预测结果。如果不指定内容，则直接使用 labels 的值。\n",
    "      attention_weights: 包中每个实例的注意力权重。如果不指定内容，则不会显示。\n",
    "    \"\"\"\n",
    "\n",
    "    labels = np.array(labels).reshape(-1)\n",
    "\n",
    "    if bag_class == \"positive\":\n",
    "        if predictions is not None:\n",
    "            labels = np.where(predictions.argmax(1) == 1)[0]\n",
    "            bags = np.array(data)[:, labels[0:PLOT_SIZE]]\n",
    "\n",
    "        else:\n",
    "            labels = np.where(labels == 1)[0]\n",
    "            bags = np.array(data)[:, labels[0:PLOT_SIZE]]\n",
    "\n",
    "    elif bag_class == \"negative\":\n",
    "        if predictions is not None:\n",
    "            labels = np.where(predictions.argmax(1) == 0)[0]\n",
    "            bags = np.array(data)[:, labels[0:PLOT_SIZE]]\n",
    "        else:\n",
    "            labels = np.where(labels == 0)[0]\n",
    "            bags = np.array(data)[:, labels[0:PLOT_SIZE]]\n",
    "\n",
    "    else:\n",
    "        print(f\"There is no class {bag_class}\")\n",
    "        return\n",
    "\n",
    "    print(f\"The bag class label is {bag_class}\")\n",
    "    for i in range(PLOT_SIZE):\n",
    "        figure = plt.figure(figsize=(8, 8))\n",
    "        print(f\"Bag number: {labels[i]}\")\n",
    "        for j in range(BAG_SIZE):\n",
    "            image = bags[j][i]\n",
    "            figure.add_subplot(1, BAG_SIZE, j + 1)\n",
    "            plt.grid(False)\n",
    "            if attention_weights is not None:\n",
    "                plt.title(np.around(attention_weights[labels[i]][j], 2))\n",
    "            plt.imshow(image)\n",
    "        plt.show()"
   ]
  },
  {
   "cell_type": "code",
   "execution_count": 7,
   "metadata": {},
   "outputs": [
    {
     "name": "stdout",
     "output_type": "stream",
     "text": [
      "The bag class label is positive\n",
      "Bag number: 2\n"
     ]
    },
    {
     "data": {
      "image/png": "[encoded data removed]",
      "text/plain": [
       "<Figure size 576x576 with 3 Axes>"
      ]
     },
     "metadata": {
      "needs_background": "light"
     },
     "output_type": "display_data"
    },
    {
     "name": "stdout",
     "output_type": "stream",
     "text": [
      "Bag number: 6\n"
     ]
    },
    {
     "data": {
      "image/png": "[encoded data removed]",
      "text/plain": [
       "<Figure size 576x576 with 3 Axes>"
      ]
     },
     "metadata": {
      "needs_background": "light"
     },
     "output_type": "display_data"
    },
    {
     "name": "stdout",
     "output_type": "stream",
     "text": [
      "Bag number: 7\n"
     ]
    },
    {
     "data": {
      "image/png": "[encoded data removed]",
      "text/plain": [
       "<Figure size 576x576 with 3 Axes>"
      ]
     },
     "metadata": {
      "needs_background": "light"
     },
     "output_type": "display_data"
    },
    {
     "name": "stdout",
     "output_type": "stream",
     "text": [
      "The bag class label is negative\n",
      "Bag number: 0\n"
     ]
    },
    {
     "data": {
      "image/png": "[encoded data removed]",
      "text/plain": [
       "<Figure size 576x576 with 3 Axes>"
      ]
     },
     "metadata": {
      "needs_background": "light"
     },
     "output_type": "display_data"
    },
    {
     "name": "stdout",
     "output_type": "stream",
     "text": [
      "Bag number: 1\n"
     ]
    },
    {
     "data": {
      "image/png": "[encoded data removed]",
      "text/plain": [
       "<Figure size 576x576 with 3 Axes>"
      ]
     },
     "metadata": {
      "needs_background": "light"
     },
     "output_type": "display_data"
    },
    {
     "name": "stdout",
     "output_type": "stream",
     "text": [
      "Bag number: 3\n"
     ]
    },
    {
     "data": {
      "image/png": "[encoded data removed]",
      "text/plain": [
       "<Figure size 576x576 with 3 Axes>"
      ]
     },
     "metadata": {
      "needs_background": "light"
     },
     "output_type": "display_data"
    }
   ],
   "source": [
    "plot(val_data, val_labels, \"positive\")\n",
    "plot(val_data, val_labels, \"negative\")"
   ]
  },
  {
   "cell_type": "markdown",
   "metadata": {},
   "source": [
    "------------"
   ]
  },
  {
   "cell_type": "markdown",
   "metadata": {},
   "source": [
    "## Create model"
   ]
  },
  {
   "cell_type": "code",
   "execution_count": 8,
   "metadata": {},
   "outputs": [],
   "source": [
    "def create_model(instance_shape):\n",
    "\n",
    "    # 从输入中抽取特征\n",
    "    inputs, embeddings = [], []\n",
    "    shared_dense_layer_1 = layers.Dense(128, activation=\"relu\")\n",
    "    shared_dense_layer_2 = layers.Dense(64, activation=\"relu\")\n",
    "    for _ in range(BAG_SIZE):\n",
    "        inp = layers.Input(instance_shape)\n",
    "        flatten = layers.Flatten()(inp)\n",
    "        dense_1 = shared_dense_layer_1(flatten)\n",
    "        dense_2 = shared_dense_layer_2(dense_1)\n",
    "        inputs.append(inp)\n",
    "        embeddings.append(dense_2)\n",
    "\n",
    "    # 调用注意力层\n",
    "    alpha = MILAttentionLayer(\n",
    "        weight_params_dim=256,\n",
    "        kernel_regularizer=keras.regularizers.l2(0.01),\n",
    "        use_gated=True,\n",
    "        name=\"alpha\",\n",
    "    )(embeddings)\n",
    "\n",
    "    # 将注意力权重和输入相乘\n",
    "    multiply_layers = [\n",
    "        layers.multiply([alpha[i], embeddings[i]]) for i in range(len(alpha))\n",
    "    ]\n",
    "\n",
    "    # 串联层\n",
    "    concat = layers.concatenate(multiply_layers, axis=1)\n",
    "    # 模型分类\n",
    "    output = layers.Dense(2, activation=\"softmax\")(concat)\n",
    "    return keras.Model(inputs, output)"
   ]
  },
  {
   "cell_type": "markdown",
   "metadata": {},
   "source": [
    "-----------"
   ]
  },
  {
   "cell_type": "markdown",
   "metadata": {},
   "source": [
    "## Class weights\n",
    "Since this kind of problem could simply turn into imbalanced data classification problem, class weighting should be considered.  \n",
    "由于这类问题往往数据不平衡（上面代码中正包数量要小于负包），因此需要考虑正负类的权重。  \n",
    "\n",
    "Let's say there are 1000 bags. There often could be cases were 90 % of the bags do not contain any positive label and ~10 % do. Such data can be referred to as Imbalanced data.  \n",
    "假设有1000个包。通常情况下约90%的包不含正样本（负包），而10%的包为正包。这就是数据不平衡 **Imbalanced data**。  \n",
    "\n",
    "Using class weights, the model will tend to give a higher weight to the rare class.  \n",
    "对于这类问题，模型要赋予少数类更高的权重。  "
   ]
  },
  {
   "cell_type": "markdown",
   "metadata": {},
   "source": [
    "### 数据不平衡的后果\n",
    "对于权重不平衡的数据会有什么影响以及如何因对，知乎博主 **起什么名字好呢** 的一篇博客 [机器学习中的非均衡问题(imbalanced data)和应对方法](https://zhuanlan.zhihu.com/p/38687978) 进行了详细的解释，非常值得阅读。  \n",
    "\n",
    "他以一个 “银行信用卡异常” 案例进行了通俗解释，此处对其进行概述。  \n",
    "\n",
    "假设一个银行有 98% 是正常业务，有 2% 是盗刷。如果模型不考虑非均匀的话，默认是最大化准确率（Accuracy）进行训练的，那么只要模型将所有输入全标记为正常业务就可以在最短的时间内达到 98% 的分类准确率，大部分人看到这么高的准确率就会停止训练，导致的后果就是代价不对等。比如正常业务每笔赚2元手续费，而成功盗刷一笔5000元就会让银行损失对等金额，为了挽回一笔盗刷则需要2500笔正常交易，这个比例远高于 98:2。  \n",
    "\n",
    "通常情况下当样本比例超过 **4:1** 时，就可以认为数据不平衡 **Imbalanced data**。"
   ]
  },
  {
   "cell_type": "markdown",
   "metadata": {},
   "source": [
    "### 如何解决\n",
    "根据该博客提供的方法，至少可以使用以下手段解决数据不平衡：\n",
    "* [Kappa指数](https://thedatascientist.com/performance-measures-cohens-kappa-statistic/)\n",
    "* [ROC](https://machinelearningmastery.com/assessing-comparing-classifier-performance-roc-curves-2/)\n",
    "* [F-Scoure](https://en.wikipedia.org/wiki/F-score)\n",
    "* [Precision and Recall](https://zhuanlan.zhihu.com/p/101101207)"
   ]
  },
  {
   "cell_type": "markdown",
   "metadata": {},
   "source": [
    "在这个博客中使用的是权重调整，这个方法在简单问题上是可以的，但一定要清楚使用这个方法进行权重重调整十分依赖经验，如果遇到复杂问题还是优先考虑上面的方法。"
   ]
  },
  {
   "cell_type": "code",
   "execution_count": 9,
   "metadata": {},
   "outputs": [],
   "source": [
    "def compute_class_weights(labels):\n",
    "    # 统计正负包数量\n",
    "    negative_count = len(np.where(labels == 0)[0])\n",
    "    positive_count = len(np.where(labels == 1)[0])\n",
    "    total_count = negative_count + positive_count\n",
    "\n",
    "    # 构建权重值\n",
    "    return {\n",
    "        0: (1 / negative_count) * (total_count / 2),\n",
    "        1: (1 / positive_count) * (total_count / 2),\n",
    "    }"
   ]
  },
  {
   "cell_type": "markdown",
   "metadata": {},
   "source": [
    "----------"
   ]
  },
  {
   "cell_type": "markdown",
   "metadata": {},
   "source": [
    "## Build and train model"
   ]
  },
  {
   "cell_type": "code",
   "execution_count": 10,
   "metadata": {},
   "outputs": [],
   "source": [
    "import os\n",
    "\n",
    "if not os.path.exists('tmp'):\n",
    "    os.makedirs('tmp')"
   ]
  },
  {
   "cell_type": "code",
   "execution_count": 11,
   "metadata": {},
   "outputs": [],
   "source": [
    "def train(train_data, train_labels, val_data, val_labels, model):\n",
    "    file_path = os.path.join('tmp', 'best_model_weights.h5')\n",
    "\n",
    "    model_checkpoint = keras.callbacks.ModelCheckpoint(\n",
    "        file_path,\n",
    "        monitor=\"val_loss\",\n",
    "        verbose=0,\n",
    "        mode=\"min\",\n",
    "        save_best_only=True,\n",
    "        save_weights_only=True,\n",
    "    )\n",
    "\n",
    "    early_stopping = keras.callbacks.EarlyStopping(\n",
    "        monitor=\"val_loss\", patience=10, mode=\"min\"\n",
    "    )\n",
    "\n",
    "    model.compile(\n",
    "        optimizer=\"adam\", loss=\"sparse_categorical_crossentropy\", metrics=[\"accuracy\"],\n",
    "    )\n",
    "\n",
    "    model.fit(\n",
    "        train_data,\n",
    "        train_labels,\n",
    "        validation_data=(val_data, val_labels),\n",
    "        epochs=10,\n",
    "        class_weight=compute_class_weights(train_labels),\n",
    "        batch_size=1,\n",
    "        callbacks=[early_stopping, model_checkpoint],\n",
    "        verbose=1,\n",
    "    )\n",
    "\n",
    "    model.load_weights(file_path)\n",
    "    return model"
   ]
  },
  {
   "cell_type": "code",
   "execution_count": 12,
   "metadata": {},
   "outputs": [],
   "source": [
    "instance_shape = train_data[0][0].shape\n",
    "models = [create_model(instance_shape) for _ in range(ENSEMBLE_AVG_COUNT)]"
   ]
  },
  {
   "cell_type": "code",
   "execution_count": 13,
   "metadata": {},
   "outputs": [
    {
     "name": "stderr",
     "output_type": "stream",
     "text": [
      "  0%|          | 0/1 [00:00<?, ?it/s]"
     ]
    },
    {
     "name": "stdout",
     "output_type": "stream",
     "text": [
      "Epoch 1/10\n",
      "1000/1000 [==============================] - 10s 8ms/step - loss: 0.3115 - accuracy: 0.9200 - val_loss: 0.0794 - val_accuracy: 0.9833\n",
      "Epoch 2/10\n",
      "1000/1000 [==============================] - 8s 8ms/step - loss: 0.0982 - accuracy: 0.9790 - val_loss: 0.0799 - val_accuracy: 0.9933\n",
      "Epoch 3/10\n",
      "1000/1000 [==============================] - 8s 8ms/step - loss: 0.0638 - accuracy: 0.9820 - val_loss: 0.0559 - val_accuracy: 0.9833\n",
      "Epoch 4/10\n",
      "1000/1000 [==============================] - 8s 8ms/step - loss: 0.0468 - accuracy: 0.9880 - val_loss: 0.1182 - val_accuracy: 0.9767\n",
      "Epoch 5/10\n",
      "1000/1000 [==============================] - 8s 8ms/step - loss: 0.0296 - accuracy: 0.9940 - val_loss: 0.0540 - val_accuracy: 0.9867\n",
      "Epoch 6/10\n",
      "1000/1000 [==============================] - 8s 8ms/step - loss: 0.0708 - accuracy: 0.9830 - val_loss: 0.0912 - val_accuracy: 0.9900\n",
      "Epoch 7/10\n",
      "1000/1000 [==============================] - 8s 8ms/step - loss: 0.0566 - accuracy: 0.9850 - val_loss: 0.0666 - val_accuracy: 0.9833\n",
      "Epoch 8/10\n",
      "1000/1000 [==============================] - 8s 8ms/step - loss: 0.0251 - accuracy: 0.9950 - val_loss: 0.1054 - val_accuracy: 0.9800\n",
      "Epoch 9/10\n",
      "1000/1000 [==============================] - 7s 7ms/step - loss: 0.0325 - accuracy: 0.9950 - val_loss: 0.0627 - val_accuracy: 0.9833\n",
      "Epoch 10/10\n",
      "1000/1000 [==============================] - 8s 8ms/step - loss: 0.0175 - accuracy: 0.9950 - val_loss: 0.1045 - val_accuracy: 0.9833\n"
     ]
    },
    {
     "name": "stderr",
     "output_type": "stream",
     "text": [
      "100%|██████████| 1/1 [01:19<00:00, 79.40s/it]\n"
     ]
    }
   ],
   "source": [
    "trained_models = [\n",
    "    train(train_data, train_labels, val_data, val_labels, model)\n",
    "    for model in tqdm(models)\n",
    "]"
   ]
  },
  {
   "cell_type": "markdown",
   "metadata": {},
   "source": [
    "------------"
   ]
  },
  {
   "cell_type": "markdown",
   "metadata": {},
   "source": [
    "## Model evaluation"
   ]
  },
  {
   "cell_type": "markdown",
   "metadata": {},
   "source": [
    "在下面的代码中出现了 **keras.Model(model.input, model.get_layer(\"alpha\").output)** 字段。Keras允许使用者通过 **get_layer()** 的方法获取模型指定部分的功能层，这是非常使用且方便的特性。"
   ]
  },
  {
   "cell_type": "code",
   "execution_count": 14,
   "metadata": {},
   "outputs": [],
   "source": [
    "def predict(data, labels, trained_models):\n",
    "    models_predictions = []\n",
    "    models_attention_weights = []\n",
    "    models_losses = []\n",
    "    models_accuracies = []\n",
    "\n",
    "    for model in trained_models:\n",
    "        # 预测模型的输出\n",
    "        predictions = model.predict(data)\n",
    "        models_predictions.append(predictions)\n",
    "\n",
    "        # 创建中间层以获得注意力机制的权重\n",
    "        intermediate_model = keras.Model(model.input, model.get_layer(\"alpha\").output)\n",
    "        intermediate_predictions = intermediate_model.predict(data)\n",
    "\n",
    "        attention_weights = np.squeeze(np.swapaxes(intermediate_predictions, 1, 0))\n",
    "        models_attention_weights.append(attention_weights)\n",
    "\n",
    "        loss, accuracy = model.evaluate(data, labels, verbose=0)\n",
    "        models_losses.append(loss)\n",
    "        models_accuracies.append(accuracy)\n",
    "\n",
    "    print(\n",
    "        f\"The average loss and accuracy are {np.sum(models_losses, axis=0) / ENSEMBLE_AVG_COUNT:.2f}\"\n",
    "        f\" and {100 * np.sum(models_accuracies, axis=0) / ENSEMBLE_AVG_COUNT:.2f} % resp.\"\n",
    "    )\n",
    "\n",
    "    return (\n",
    "        np.sum(models_predictions, axis=0) / ENSEMBLE_AVG_COUNT,\n",
    "        np.sum(models_attention_weights, axis=0) / ENSEMBLE_AVG_COUNT,\n",
    "    )"
   ]
  },
  {
   "cell_type": "code",
   "execution_count": 15,
   "metadata": {},
   "outputs": [
    {
     "name": "stdout",
     "output_type": "stream",
     "text": [
      "The average loss and accuracy are 0.05 and 98.67 % resp.\n"
     ]
    }
   ],
   "source": [
    "class_predictions, attention_params = predict(val_data, val_labels, trained_models)"
   ]
  },
  {
   "cell_type": "code",
   "execution_count": 16,
   "metadata": {},
   "outputs": [
    {
     "name": "stdout",
     "output_type": "stream",
     "text": [
      "The bag class label is positive\n",
      "Bag number: 2\n"
     ]
    },
    {
     "data": {
      "image/png": "[encoded data removed]",
      "text/plain": [
       "<Figure size 576x576 with 3 Axes>"
      ]
     },
     "metadata": {
      "needs_background": "light"
     },
     "output_type": "display_data"
    },
    {
     "name": "stdout",
     "output_type": "stream",
     "text": [
      "Bag number: 6\n"
     ]
    },
    {
     "data": {
      "image/png": "[encoded data removed]",
      "text/plain": [
       "<Figure size 576x576 with 3 Axes>"
      ]
     },
     "metadata": {
      "needs_background": "light"
     },
     "output_type": "display_data"
    },
    {
     "name": "stdout",
     "output_type": "stream",
     "text": [
      "Bag number: 7\n"
     ]
    },
    {
     "data": {
      "image/png": "[encoded data removed]",
      "text/plain": [
       "<Figure size 576x576 with 3 Axes>"
      ]
     },
     "metadata": {
      "needs_background": "light"
     },
     "output_type": "display_data"
    }
   ],
   "source": [
    "plot(\n",
    "    val_data,\n",
    "    val_labels,\n",
    "    \"positive\",\n",
    "    predictions=class_predictions,\n",
    "    attention_weights=attention_params,\n",
    ")"
   ]
  },
  {
   "cell_type": "code",
   "execution_count": 17,
   "metadata": {},
   "outputs": [
    {
     "name": "stdout",
     "output_type": "stream",
     "text": [
      "The bag class label is negative\n",
      "Bag number: 0\n"
     ]
    },
    {
     "data": {
      "image/png": "[encoded data removed]",
      "text/plain": [
       "<Figure size 576x576 with 3 Axes>"
      ]
     },
     "metadata": {
      "needs_background": "light"
     },
     "output_type": "display_data"
    },
    {
     "name": "stdout",
     "output_type": "stream",
     "text": [
      "Bag number: 1\n"
     ]
    },
    {
     "data": {
      "image/png": "[encoded data removed]",
      "text/plain": [
       "<Figure size 576x576 with 3 Axes>"
      ]
     },
     "metadata": {
      "needs_background": "light"
     },
     "output_type": "display_data"
    },
    {
     "name": "stdout",
     "output_type": "stream",
     "text": [
      "Bag number: 3\n"
     ]
    },
    {
     "data": {
      "image/png": "[encoded data removed]",
      "text/plain": [
       "<Figure size 576x576 with 3 Axes>"
      ]
     },
     "metadata": {
      "needs_background": "light"
     },
     "output_type": "display_data"
    }
   ],
   "source": [
    "plot(\n",
    "    val_data,\n",
    "    val_labels,\n",
    "    \"negative\",\n",
    "    predictions=class_predictions,\n",
    "    attention_weights=attention_params,\n",
    ")"
   ]
  },
  {
   "cell_type": "markdown",
   "metadata": {},
   "source": [
    "--------------"
   ]
  },
  {
   "cell_type": "markdown",
   "metadata": {},
   "source": [
    "## Conclusion\n",
    "From the above plot, you can notice that the weights always sum to 1. In a positively predict bag, the instance which resulted in the positive labeling will have a substantially higher attention score than the rest of the bag. However, in a negatively predicted bag, there are two cases:  \n",
    "从上图中可以发现，注意力权重总和始终为1，在正包中，正实例的权重要远远高于其他实例；在负包中存在以下两个现象：  \n",
    "* All instances will have approximately similar scores. \n",
    "* 所有实例权重分布大致相同。\n",
    "* An instance will have relatively higher score (but not as high as of a positive instance). This is because the feature space of this instance is close to that of the positive instance. \n",
    "* 所有实例都有较高的得分（相对于正包中的负实例而言），这是因为实例的特征空间与正实例的特征空间非常接近（MNIST数据集的样本风格基本一致，可以说画风很相似）。"
   ]
  },
  {
   "cell_type": "markdown",
   "metadata": {},
   "source": [
    "------------"
   ]
  },
  {
   "cell_type": "markdown",
   "metadata": {},
   "source": [
    "## Remarsk\n",
    "* If the model is overfit, the weights will be equally distributed for all bags. Hence, the regularization techniques are necessary.\n",
    "* 如果模型过拟合了，那么就不要对权重进行重分配。\n",
    "* In the paper, the bag sizes can differ from one bag to another. For simplicity, the bag sizes are fixed here.\n",
    "* 在原始论文中，包的尺寸是非固定的，这里为了简化将所有包的大小都固定成一个值。\n",
    "* In order not to rely on the random initial weights of a single model, averaging ensemble methods should be considered.\n",
    "* 为了让性能不依赖于某一个模型的随机初始权重，可以考虑使用均值集成方法（averaging ensembel method）。"
   ]
  },
  {
   "cell_type": "markdown",
   "metadata": {},
   "source": [
    "关于模型集成可以参考知乎博主 **AlphaJia** 的博客 [模型集成(Model Ensemble)](https://zhuanlan.zhihu.com/p/269215725) 了解一个大致的概念，后面会有例子演示什么是模型集成。"
   ]
  }
 ],
 "metadata": {
  "interpreter": {
   "hash": "b3ba2566441a7c06988d0923437866b63cedc61552a5af99d1f4fb67d367b25f"
  },
  "kernelspec": {
   "display_name": "Python 3.8.5 ('base')",
   "language": "python",
   "name": "python3"
  },
  "language_info": {
   "codemirror_mode": {
    "name": "ipython",
    "version": 3
   },
   "file_extension": ".py",
   "mimetype": "text/x-python",
   "name": "python",
   "nbconvert_exporter": "python",
   "pygments_lexer": "ipython3",
   "version": "3.8.5"
  },
  "orig_nbformat": 4
 },
 "nbformat": 4,
 "nbformat_minor": 2
}
