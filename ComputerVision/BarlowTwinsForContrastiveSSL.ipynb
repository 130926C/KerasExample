{
 "cells": [
  {
   "cell_type": "markdown",
   "metadata": {},
   "source": [
    "# Barlow Twins for Contrastive SSL.\n",
    "### Barlow Twins 对比自监督学习"
   ]
  },
  {
   "cell_type": "markdown",
   "metadata": {},
   "source": [
    "原文链接：https://keras.io/examples/vision/barlow_twins/"
   ]
  },
  {
   "cell_type": "markdown",
   "metadata": {},
   "source": [
    "## Note:\n"
   ]
  },
  {
   "cell_type": "markdown",
   "metadata": {},
   "source": [
    "**这个例子十分吃显存和内存，建议内存在32GB以上，现存在6GB以上**\n",
    "\n",
    "\n",
    "自监督学习大部分人已经有一个概念了，对比自监督学习其实是自监督学习的一种，其本质仍然是不依靠标签，从无标签的图中学习到特征。图像领域的自监督可以分成两类：生成式和判别式。知乎博主 **Microstrong** 在其博客 [机器学习中的判别式模型和生成式模型](https://zhuanlan.zhihu.com/p/74586507) 中对两种模型进行了详细介绍，总结得到如下信息：  \n",
    "* 生成式：对联合分布建模 $\\sum{P(x,y)}=1$\n",
    "* 判别式：对条件分布建模 $\\sum{P(y|x)}=1$\n",
    "\n",
    "\n",
    "<table>\n",
    "<tr>\n",
    "    <td rowspan=\"7\"> 判别式\n",
    "    <td>Logistic Regression</td>\n",
    "    <td>逻辑回归</td>\n",
    "</tr>\n",
    "<tr>\n",
    "    <td>Linear Discriminant Analysis</td>\n",
    "    <td>线性判别分析</td>\n",
    "</tr>\n",
    "<tr>\n",
    "    <td>Support Vector Machines</td>\n",
    "    <td>支持向量机</td>\n",
    "</tr>\n",
    "<tr>\n",
    "    <td>Boosting</td>\n",
    "    <td>监督学习提升算法</td>\n",
    "</tr>\n",
    "<tr>\n",
    "    <td>Conditional Random Fields</td>\n",
    "    <td>条件随机场</td>\n",
    "</tr>\n",
    "<tr>\n",
    "    <td>Linear Regression</td>\n",
    "    <td>线性回归</td>\n",
    "</tr>\n",
    "<tr>\n",
    "    <td>Classiifcation Neural Networks</td>\n",
    "    <td>分类神经网络</td>\n",
    "</tr>\n",
    "<!-- -->\n",
    "<tr>\n",
    "    <td rowspan=\"7\"> 生成式\n",
    "    <td>Gaussian Mixture Model</td>\n",
    "    <td>高斯混合模型</td>\n",
    "</tr>\n",
    "<tr>\n",
    "    <td>Hidden Markov Model</td>\n",
    "    <td>隐式马尔可夫模型</td>\n",
    "</tr>\n",
    "<tr>\n",
    "    <td>Naive Bayes</td>\n",
    "    <td>朴素贝叶斯</td>\n",
    "</tr>\n",
    "<tr>\n",
    "    <td>Restricted Boltzmann Machine</td>\n",
    "    <td>有限玻尔兹曼机</td>\n",
    "</tr>\n",
    "</table> \n",
    "\n",
    "\n",
    "以一个“语言”例子说明两者之间的区别：\n",
    "* 生成式：把所有国家的语言都学会，那么自然就知道对方说的什么语言，并且自己也会说任何语言；\n",
    "* 判别式：只要知道两两语言之间的差异就行，能够区分两个语言，但自己并不会说任何语言；\n",
    "\n",
    "例如，如何区分中文和法语。生成式需要把中文和法语全部学会，而判别式只需要知道中文是象形文字，而法语是拼音文字即可。  \n",
    "\n",
    "有了上述概念就可以知道VAE、GAN是生成式方法，而本文所引入的对比学习就是典型的判别式方法。假设现在有两类图片如下图所示。  \n",
    "\n",
    "<img src='../images/CV_Img/CSSL.png'>  \n",
    "\n",
    "虽然类间图片存在一定差异，但仍然是同一类的图片。那么对比自监督学习就是找到一个模型，即便是天空颜色不一样也要把两者尽可能地映射到同一个向量上，同时天空向量和城市向量尽可能正交。即缩小同类样本之间的距离，扩大异类样本的距离。  \n",
    "\n",
    "到此处你可能会有疑问，那我们之前做的不一直是这个么？找到一个模型能够区分不同类别样本。这里需要注意下，之前的工作大多数是在有标签的情况下完成的，这意味着我们对训练集每个样本的信息都很清楚，但现在的环境是无标签，更类似于无监督的 KNN 聚类。  \n",
    "\n",
    "至此标题的一半 “对比自监督学习” 算是解释完了，另一半 “Barlow Twins” 其实就是一种改进的算法。"
   ]
  },
  {
   "cell_type": "markdown",
   "metadata": {},
   "source": [
    "这里有几个非常好的相关博客推荐给大家，对此处感兴趣的可以阅读下。\n",
    "* 光某人 [对比学习（Contrastive Learning）综述](https://zhuanlan.zhihu.com/p/346686467)\n",
    "* 明也 [自监督学习--深度学习的魔法](https://zhuanlan.zhihu.com/p/383929440)\n",
    "* 张俊林 [对比学习（Contrastive Learning）:研究进展精要](https://zhuanlan.zhihu.com/p/367290573)\n",
    "\n",
    "以及该算法的原始论文 [Barlow Twins: Self-Supervised Learning via Redundancy Reduction](https://arxiv.org/abs/2103.03230)"
   ]
  },
  {
   "cell_type": "markdown",
   "metadata": {},
   "source": [
    "----------"
   ]
  },
  {
   "cell_type": "markdown",
   "metadata": {},
   "source": [
    "## Introduction\n",
    "Self-supervised learning (SSL) is a relatively novel technique in which a model learns from unlabeled data, and is often used when the data is corrupted or if there is very little of it. A practical use for SSL is to create intermediate embeddings that are learned from the data. These embeddings are based on the dataset itself, with similar images having similar embeddings, and vice versa. They are then attached to the rest of the model, which uses those embeddings as information and effectively learns and makes predictions properly. These embeddings, ideally, should contain as much information and insight about the data as possible, so that the model can make better predictions. However, a common problem that arises is that the model creates embeddings that are redundant. For example, if two images are similar, the model will create embeddings that are just a string of 1's, or some other value that contains repeating bits of information. This is no better than a one-hot encoding or just having one bit as the model’s representations; it defeats the purpose of the embeddings, as they do not learn as much about the dataset as possible. For other approaches, the solution to the problem was to carefully configure the model such that it tries not to be redundant.  \n",
    "自监督学习（SSL）是一种相对新颖的技术，其中模型从未标记的数据中学习，并且通常在数据损坏或数据很少的情况下使用。SSL的一个实际用途是创建从数据中学习的中间嵌入（特征），这些嵌入基于数据集本身的，相似的图像有相近的嵌入。然后模型使用这些嵌入作为信息学习和预测。理想条件下，这些嵌入需要包含了数据集中尽可能多样的信息。但实际情况是存在冗余的嵌入。如，对于两个相似度较高的图像，模型可能会创建一串“1”，或者包含重复信息的其他嵌入，这样的操作并不one-hot或者使用一个比特位表示更好，这和嵌入的初衷背离因为模型并没有从数据集中尽可能多地学到信息。解决这个问题的方法是让模型尽量不冗余。  \n",
    "\n",
    "Barlow Twins is a new approach to this problem; while other solutions mainly tackle the first goal of invariance (similar images have similar embeddings), the Barlow Twins method also prioritizes the goal of reducing redundancy.  \n",
    "Barlow Twins是解决冗余问腿的一个新方法。虽然其他方法主要解决的是不变性的第一个目标（相似的图像有相似的嵌入），但Barlow Twins在次基础上有限考虑了如何减少冗余。  \n",
    "\n",
    "It also has the advantage of being much simpler than other methods, and its model architecture is symmetric, meaning that both twins in the model do the same thing. It is also near state-of-the-art on imagenet, even exceeding methods like SimCLR.  \n",
    "该方法还比其他方法简单很多，并且模型结构是对称的，这意味着模型的两个支路能做完全相同的事。在ImageNet上也达到了SOTA，甚至超越了SimCLR方法。  \n",
    "\n",
    "One disadvantage of Barlow Twins is that it is heavily dependent on augmentation, suffering major performance decreases in accuracy without them.  \n",
    "Barlow Twins的一个缺陷是其严重依赖与数据增强，如果没有这部分，准确性将大幅下降。  \n",
    "\n",
    "TL, DR: Barlow twins creates representations that are:   \n",
    "* Invariant. 不变性。\n",
    "* Not redundant, and carry as much info about the dataset. 非冗余，并携带数据集中尽可能多的关键信息。\n"
   ]
  },
  {
   "cell_type": "markdown",
   "metadata": {},
   "source": [
    "这里引入了一两个概念，不变性（Invariant）和等变性（Equivarient），知乎博主 **Lunarnai** 在其博客 [CNN中的equivariant vs. invariant](https://zhuanlan.zhihu.com/p/41682204) 中对这两个概念进行了概述，总结起来如下：  \n",
    "\n",
    "* 等变性 Equivariant：对输入施加的变化会反应在输出上；\n",
    "* 不变性 Invarient：对输入的变化不会反应在输出上；\n",
    "\n",
    "那么，对于一个有标签的分类网络而言，期望的是不变性，即无论图中的对象如何形变（镜像、翻转、平移）都不改变分类结果；而对于回归网络而言，期望的是等变性，即对象位置发生改变其输出的坐标值也要变化。  \n",
    "\n",
    "在此处，由于我们的目标仍然是做无监督的分类，那么不变性则是主要追求的指标。"
   ]
  },
  {
   "cell_type": "markdown",
   "metadata": {},
   "source": [
    "该博客将按照下图所示结构搭建Barlow Twins模型。"
   ]
  },
  {
   "cell_type": "markdown",
   "metadata": {},
   "source": [
    "<img src='../images/CV_Img/G6LnEPT.png'>"
   ]
  },
  {
   "cell_type": "markdown",
   "metadata": {},
   "source": [
    "## High-Level Theory\n",
    "The model takes two versions of the same image(with different augmentations) as input. Then it takes a prediction of each of them, creating representations. They are then used to make a cross-correlation matrix.  \n",
    "该模型将同一幅图像的两种增强结果作为输入，对每种结果进行预测，将预测结果用于构造互相关矩阵。\n",
    "\n",
    "```python\n",
    "Cross-correlation matrix:\n",
    "    (pred_1.T @ pred_2) / batch_size\n",
    "```\n",
    "\n",
    "The cross-correlation matrix measures the correlation between the output neurons in the two representations made by the model predictions of the two augmented versions of data. Ideally, a cross-correlation matrix should look like an identity matrix if the two images are the same.  \n",
    "互相关矩阵衡量的是两个输入在完成特征抽取后输出的相关性（图中即为 $Z^{A}$ 和 $Z^{B}$ 的相关性）。在理想状态下，如果两个图像相同那么互相关矩阵为单位矩阵。（这其实是我们所期待的，尽管对图像进行了不同程度的增强，但图像中的内容不应该发生变化，两个输出特征的相关性矩阵应该为单位矩阵）  \n",
    "\n",
    "When this happens, it means that the representations:  \n",
    "当发生这种情况时，则意味着：  \n",
    "* Are invariant. The diagonal shows the correlation between each representation's neurons and its corresponding augmented one. Because the two versions come from the same image, the diagonal of the matrix should show that there is a strong correlation between them. If the images are different, there shouldn't be a diagonal.\n",
    "* 模型是不变的。对角线的值显示了表征神经元和增强神经元之间的相关性。因为这两个版本的图像本来就来源于同一张图像，所以矩阵的对角线值理应表现出很强的相关性。如果图像内容不同，那么就不应该出现对角线。\n",
    "* Do not show signs of redundancy. If the neurons show correlation with a non-diagonal neuron, it means that it is not correctly identifying similarities between the two augmented images. This means that it is redundant.\n",
    "* 没有冗余现象。如果模型表现出非对角矩阵，则意味着没有正确识别两个增强图像之间的相似性，说明模型冗余了。\n",
    "\n",
    "有人可能不太理解为什么没有表现出非对角矩阵就说明冗余了，这是因为在上文中提到了期望模型能够尽可能多地涵盖整个数据集，如果在同一张图片的不同增强版本中都无法保证相关性，那么说明模型可能为每一张图片进行了编码，并没有学到深层次的特征，这种暴力编码的模型被称为冗余。  \n",
    "\n",
    "下面是来自 [原始论文](https://arxiv.org/abs/2103.03230) 中的一个伪码例子：\n",
    "```python\n",
    "c[i][i] = 1\n",
    "c[i][j] = 0\n",
    "\n",
    "where:\n",
    "  c is the cross-correlation matrix\n",
    "  i is the index of one representation's neuron\n",
    "  j is the index of the second representation's neuron\n",
    "```"
   ]
  },
  {
   "cell_type": "markdown",
   "metadata": {},
   "source": [
    "-----------"
   ]
  },
  {
   "cell_type": "markdown",
   "metadata": {},
   "source": [
    "## Setup"
   ]
  },
  {
   "cell_type": "code",
   "execution_count": 1,
   "metadata": {},
   "outputs": [],
   "source": [
    "import os\n",
    "\n",
    "# 为一个GPU分配两个线程，这样可以更快的完成训练\n",
    "os.environ[\"TF_GPU_THREAD_MODE\"] = \"gpu_private\"\n",
    "\n",
    "import tensorflow as tf  # framework\n",
    "from tensorflow import keras  # for tf.keras\n",
    "import tensorflow_addons as tfa  # LAMB optimizer and gaussian_blur_2d function\n",
    "import numpy as np  # np.random.random\n",
    "import matplotlib.pyplot as plt  # graphs\n",
    "import datetime  # tensorboard logs naming\n",
    "\n",
    "# XLA优化，由于我电脑没有相应硬件，所以这句对我来说无效\n",
    "tf.config.optimizer.set_jit(True)"
   ]
  },
  {
   "cell_type": "markdown",
   "metadata": {},
   "source": [
    "-----------"
   ]
  },
  {
   "cell_type": "markdown",
   "metadata": {},
   "source": [
    "## Load the CIFAR-10 dataset"
   ]
  },
  {
   "cell_type": "code",
   "execution_count": 2,
   "metadata": {},
   "outputs": [],
   "source": [
    "[\n",
    "    (train_features, train_labels),\n",
    "    (test_features, test_labels),\n",
    "] = keras.datasets.cifar10.load_data()\n",
    "\n",
    "train_features = train_features / 255.0\n",
    "test_features = test_features / 255.0"
   ]
  },
  {
   "cell_type": "markdown",
   "metadata": {},
   "source": [
    "-----------"
   ]
  },
  {
   "cell_type": "markdown",
   "metadata": {},
   "source": [
    "## Necessary Hyperparameters"
   ]
  },
  {
   "cell_type": "code",
   "execution_count": 3,
   "metadata": {},
   "outputs": [],
   "source": [
    "BATCH_SIZE = 512\n",
    "IMAGE_SIZE = 32"
   ]
  },
  {
   "cell_type": "markdown",
   "metadata": {},
   "source": [
    "--------"
   ]
  },
  {
   "cell_type": "markdown",
   "metadata": {},
   "source": [
    "## Augmentation Utilities\n",
    "The Barlow twins algorithm is heavily reliant on Augmentation. One unique feature of the method is that sometimes, augmentations probabilistically occur.  \n",
    "Barlow Twins算法非常依赖与数据增强，下面这个类的特点是按照一定的概率进行增强。"
   ]
  },
  {
   "cell_type": "markdown",
   "metadata": {},
   "source": [
    "### Augmentations\n",
    "* RandomToGrayscale: randomly applies grayscale to image 20% of the time.\n",
    "* RandomColorJitter: randomly applies color jitter 80% of the time.\n",
    "* RandomFlip: randomly flips image horizontally 50% of the time.\n",
    "* RandomResizedCrop: randomly crops an image to a random size then resizes. This happens 100% of the time.\n",
    "* RandomSolarize: randomly applies solarization to an image 20% of the time.\n",
    "* RandomBlur: randomly blurs an image 20% of the time.  \n",
    "\n",
    "翻译：\n",
    "* 20% 的概率将图像转为灰度图。\n",
    "* 80% 的概率让图像色彩随机抖动。\n",
    "* 50% 的概率将图像进行水平翻转。\n",
    "* 100% 的概率将图像裁剪为随机大小，然后再调整为统一大小（IMAGE_SIZE）。\n",
    "* 20% 的概率对图像进行过曝。\n",
    "* 20% 的概率模糊图像。"
   ]
  },
  {
   "cell_type": "markdown",
   "metadata": {},
   "source": [
    "博主在原始博客中对类的注释写的非常详细，由于这些操作比较简单所以就将原先的注释删除。但仍然有值得学习的地方。  \n",
    "\n",
    "先前的教程中提到了如果使用GPU那么尽可能将操作以 **keras.layers** 的方式实现，这里博主在增强方法的基类中直接继承了 **keras.layers.Layer** 类，也是一种实现方法。实际上，在我们当前的版本中（TensorFlow 2.6.0）中已经涵盖了以下所有功能，他被封装在 [**tf.image**](https://tensorflow.google.cn/api_docs/python/tf/image) 中，如果后面想要使用的话完全可以不用自己造轮子。"
   ]
  },
  {
   "cell_type": "code",
   "execution_count": 4,
   "metadata": {},
   "outputs": [],
   "source": [
    "class Augmentation(keras.layers.Layer):\n",
    "    def __init__(self):\n",
    "        super(Augmentation, self).__init__()\n",
    "\n",
    "    @tf.function\n",
    "    def random_execute(self, prob: float) -> bool:\n",
    "        return tf.random.uniform([], minval=0, maxval=1) < prob"
   ]
  },
  {
   "cell_type": "code",
   "execution_count": 5,
   "metadata": {},
   "outputs": [],
   "source": [
    "class RandomToGrayscale(Augmentation):\n",
    "    @tf.function\n",
    "    def call(self, x: tf.Tensor) -> tf.Tensor:\n",
    "        if self.random_execute(0.2):\n",
    "            x = tf.image.rgb_to_grayscale(x)\n",
    "            x = tf.tile(x, [1, 1, 3])\n",
    "        return x"
   ]
  },
  {
   "cell_type": "code",
   "execution_count": 6,
   "metadata": {},
   "outputs": [],
   "source": [
    "class RandomColorJitter(Augmentation):\n",
    "    @tf.function\n",
    "    def call(self, x: tf.Tensor) -> tf.Tensor:\n",
    "        if self.random_execute(0.8):\n",
    "            x = tf.image.random_brightness(x, 0.8)\n",
    "            x = tf.image.random_contrast(x, 0.4, 1.6)\n",
    "            x = tf.image.random_saturation(x, 0.4, 1.6)\n",
    "            x = tf.image.random_hue(x, 0.2)\n",
    "        return x"
   ]
  },
  {
   "cell_type": "code",
   "execution_count": 7,
   "metadata": {},
   "outputs": [],
   "source": [
    "class RandomFlip(Augmentation):\n",
    "    @tf.function\n",
    "    def call(self, x: tf.Tensor) -> tf.Tensor:\n",
    "        if self.random_execute(0.5):\n",
    "            x = tf.image.random_flip_left_right(x)\n",
    "        return x"
   ]
  },
  {
   "cell_type": "code",
   "execution_count": 8,
   "metadata": {},
   "outputs": [],
   "source": [
    "class RandomResizedCrop(Augmentation):\n",
    "    def __init__(self, image_size):\n",
    "        super(Augmentation, self).__init__()\n",
    "        self.image_size = image_size\n",
    "\n",
    "    def call(self, x: tf.Tensor) -> tf.Tensor:\n",
    "        rand_size = tf.random.uniform(\n",
    "            shape=[],\n",
    "            minval=int(0.75 * self.image_size),\n",
    "            maxval=1 * self.image_size,\n",
    "            dtype=tf.int32,\n",
    "        )\n",
    "\n",
    "        crop = tf.image.random_crop(x, (rand_size, rand_size, 3))\n",
    "        crop_resize = tf.image.resize(crop, (self.image_size, self.image_size))\n",
    "        return crop_resize"
   ]
  },
  {
   "cell_type": "code",
   "execution_count": 9,
   "metadata": {},
   "outputs": [],
   "source": [
    "class RandomSolarize(Augmentation):\n",
    "    @tf.function\n",
    "    def call(self, x: tf.Tensor) -> tf.Tensor:\n",
    "        if self.random_execute(0.2):\n",
    "            # flips abnormally low pixels to abnormally high pixels\n",
    "            x = tf.where(x < 10, x, 255 - x)\n",
    "        return x"
   ]
  },
  {
   "cell_type": "code",
   "execution_count": 10,
   "metadata": {},
   "outputs": [],
   "source": [
    "class RandomBlur(Augmentation):\n",
    "    @tf.function\n",
    "    def call(self, x: tf.Tensor) -> tf.Tensor:\n",
    "        if self.random_execute(0.2):\n",
    "            s = np.random.random()\n",
    "            return tfa.image.gaussian_filter2d(image=x, sigma=s)\n",
    "        return x"
   ]
  },
  {
   "cell_type": "code",
   "execution_count": 11,
   "metadata": {},
   "outputs": [],
   "source": [
    "class RandomAugmentor(keras.Model):\n",
    "    def __init__(self, image_size: int):\n",
    "        super(RandomAugmentor, self).__init__()\n",
    "\n",
    "        self.image_size = image_size\n",
    "        self.random_resized_crop = RandomResizedCrop(image_size)\n",
    "        self.random_flip = RandomFlip()\n",
    "        self.random_color_jitter = RandomColorJitter()\n",
    "        self.random_blur = RandomBlur()\n",
    "        self.random_to_grayscale = RandomToGrayscale()\n",
    "        self.random_solarize = RandomSolarize()\n",
    "\n",
    "    def call(self, x: tf.Tensor) -> tf.Tensor:\n",
    "        x = self.random_resized_crop(x)\n",
    "        x = self.random_flip(x)\n",
    "        x = self.random_color_jitter(x)\n",
    "        x = self.random_blur(x)\n",
    "        x = self.random_to_grayscale(x)\n",
    "        x = self.random_solarize(x)\n",
    "\n",
    "        x = tf.clip_by_value(x, 0, 1)\n",
    "        return x"
   ]
  },
  {
   "cell_type": "code",
   "execution_count": 12,
   "metadata": {},
   "outputs": [],
   "source": [
    "bt_augmentor = RandomAugmentor(IMAGE_SIZE)"
   ]
  },
  {
   "cell_type": "markdown",
   "metadata": {},
   "source": [
    "---------"
   ]
  },
  {
   "cell_type": "markdown",
   "metadata": {},
   "source": [
    "## Data Loading"
   ]
  },
  {
   "cell_type": "code",
   "execution_count": 13,
   "metadata": {},
   "outputs": [],
   "source": [
    "class BTDatasetCreator:\n",
    "    \"\"\"Barlow twins dataset creator class.\n",
    "\n",
    "    数据集由每个图像的两个不同增强组成，设计了这个类用来构造数据集\n",
    "    \"\"\"\n",
    "\n",
    "    def __init__(self, augmentor: RandomAugmentor, seed: int = 1024):\n",
    "        self.options = tf.data.Options()\n",
    "        self.options.threading.max_intra_op_parallelism = 1\n",
    "        self.seed = seed\n",
    "        self.augmentor = augmentor\n",
    "\n",
    "    def augmented_version(self, ds: list) -> tf.data.Dataset:\n",
    "        return (\n",
    "            tf.data.Dataset.from_tensor_slices(ds)\n",
    "            .shuffle(1000, seed=self.seed)\n",
    "            .map(self.augmentor, num_parallel_calls=tf.data.AUTOTUNE)\n",
    "            .batch(BATCH_SIZE, drop_remainder=True)\n",
    "            .prefetch(tf.data.AUTOTUNE)\n",
    "            .with_options(self.options)\n",
    "        )\n",
    "\n",
    "    def __call__(self, ds: list) -> tf.data.Dataset:\n",
    "        a1 = self.augmented_version(ds)\n",
    "        a2 = self.augmented_version(ds)\n",
    "\n",
    "        return tf.data.Dataset.zip((a1, a2)).with_options(self.options)\n"
   ]
  },
  {
   "cell_type": "markdown",
   "metadata": {},
   "source": [
    "### View examples of dataset."
   ]
  },
  {
   "cell_type": "code",
   "execution_count": 14,
   "metadata": {},
   "outputs": [
    {
     "data": {
      "image/png": "[encoded data removed]",
      "text/plain": [
       "<Figure size 432x288 with 9 Axes>"
      ]
     },
     "metadata": {
      "needs_background": "light"
     },
     "output_type": "display_data"
    },
    {
     "data": {
      "image/png": "[encoded data removed]",
      "text/plain": [
       "<Figure size 432x288 with 9 Axes>"
      ]
     },
     "metadata": {
      "needs_background": "light"
     },
     "output_type": "display_data"
    }
   ],
   "source": [
    "augment_versions = BTDatasetCreator(bt_augmentor)(train_features)\n",
    "sample_augment_versions = iter(augment_versions)\n",
    "\n",
    "def plot_values(batch: tuple):\n",
    "    fig, axs = plt.subplots(3, 3)\n",
    "    fig1, axs1 = plt.subplots(3, 3)\n",
    "\n",
    "    fig.suptitle(\"Augmentation 1\")\n",
    "    fig1.suptitle(\"Augmentation 2\")\n",
    "\n",
    "    a1, a2 = batch\n",
    "\n",
    "    # plots images on both tables\n",
    "    for i in range(3):\n",
    "        for j in range(3):\n",
    "            # CHANGE(add / 255)\n",
    "            axs[i][j].imshow(a1[3 * i + j])\n",
    "            axs[i][j].axis(\"off\")\n",
    "            axs1[i][j].imshow(a2[3 * i + j])\n",
    "            axs1[i][j].axis(\"off\")\n",
    "\n",
    "    plt.show()\n",
    "\n",
    "\n",
    "plot_values(next(sample_augment_versions))"
   ]
  },
  {
   "cell_type": "markdown",
   "metadata": {},
   "source": [
    "----------"
   ]
  },
  {
   "cell_type": "markdown",
   "metadata": {},
   "source": [
    "## Pseudocode of loss and model\n",
    "Barlow Twims要优于其他方法最重要的手段是，他在计算损失函数以及训练步骤的时候做出了改进，下图展示了PyTorch风格的伪码。\n",
    "\n",
    "<img src='../images/CV_Img/Tlrootj.png'>"
   ]
  },
  {
   "cell_type": "markdown",
   "metadata": {},
   "source": [
    "引用原文中变量表：  \n",
    "* y_a: first augmented version of original image.\n",
    "* y_b: second augmented version of original image.\n",
    "* z_a: model representation(embeddings) of y_a.\n",
    "* z_b: model representation(embeddings) of y_b.\n",
    "* z_a_norm: normalized z_a.\n",
    "* z_b_norm: normalized z_b.\n",
    "* c: cross correlation matrix.\n",
    "* c_diff: diagonal portion of loss(invariance term).\n",
    "* off_diag: off-diagonal portion of loss(redundancy reduction term)."
   ]
  },
  {
   "cell_type": "markdown",
   "metadata": {},
   "source": [
    "--------"
   ]
  },
  {
   "cell_type": "markdown",
   "metadata": {},
   "source": [
    "## BarlowLoss: barlow twins model's loss function\n",
    "Barlow Twins使用互相关矩阵来计算损失，主要有以下两个部分：\n",
    "* **The invariance term**(diagonal). This part is used to make the diagonals of the matrix into 1s. When this is the case, the matrix shows that the images are correlated(same).\n",
    "    * The loss function subtracts 1 from the diagonal and squares the values.\n",
    "* **The redundancy reduction term**(off-diagonal). Here, the barlow twins loss function aims to make these values zero. As mentioned before, it is redundant if the representation neurons are correlated with values that are not on the diagonal.\n",
    "    * Off diagonals are squared.\n",
    "\n",
    "翻译：\n",
    "* **不变项**（对角线）。对于相同的图像而言，这部分值为1.\n",
    "    * loss=(对角线值-1)^2\n",
    "* **冗余减少项**（非对角线）。算法旨在让这些部分值为零。如果这部分值非零，则说明模型冗余了。\n",
    "    * loss=(非对角线值)^2"
   ]
  },
  {
   "cell_type": "code",
   "execution_count": 15,
   "metadata": {},
   "outputs": [],
   "source": [
    "class BarlowLoss(keras.losses.Loss):\n",
    "    def __init__(self, batch_size: int):\n",
    "        super(BarlowLoss, self).__init__()\n",
    "        self.lambda_amt = 5e-3          # 该值会用在互相关矩阵损失中\n",
    "        self.batch_size = batch_size\n",
    "\n",
    "    def get_off_diag(self, c: tf.Tensor) -> tf.Tensor:\n",
    "        ''' 获得非对角线部分 '''\n",
    "        zero_diag = tf.zeros(c.shape[-1])\n",
    "        return tf.linalg.set_diag(c, zero_diag)\n",
    "\n",
    "    def cross_corr_matrix_loss(self, c: tf.Tensor) -> tf.Tensor:\n",
    "        \"\"\" 互相关矩阵整体loss计算方法\n",
    "\n",
    "            对于两幅加强的图片而言，期望对角线值全为1，而非对角线值全为0.\n",
    "\n",
    "        Loss function procedure:\n",
    "            1. Invariance Term: (对角线值-1)^2 得到 c_diff\n",
    "            2. Redundancy Reduction Term: \n",
    "                (1).使用 self.get_off_diag() 函数获得对角线值 _c\n",
    "                (2).对 _c 进行平方再乘以 self.lambda_amt 得到 off_diag\n",
    "            3.Loss = c_diff + off_diag\n",
    "        \"\"\"\n",
    "        # subtracts diagonals by one and squares them(first part)\n",
    "        c_diff = tf.pow(tf.linalg.diag_part(c) - 1, 2)\n",
    "        # takes off diagonal, squares it, multiplies with lambda(second part)\n",
    "        off_diag = tf.pow(self.get_off_diag(c), 2) * self.lambda_amt\n",
    "        # sum first and second parts together\n",
    "        loss = tf.reduce_sum(c_diff) + tf.reduce_sum(off_diag)\n",
    "        return loss\n",
    "\n",
    "    def normalize(self, output: tf.Tensor) -> tf.Tensor:\n",
    "        return (output - tf.reduce_mean(output, axis=0)) / tf.math.reduce_std(\n",
    "            output, axis=0\n",
    "        )\n",
    "\n",
    "    def cross_corr_matrix(self, z_a_norm: tf.Tensor, z_b_norm: tf.Tensor) -> tf.Tensor:\n",
    "        \"\"\" 互相关矩阵计算方法\n",
    "\n",
    "            1. 将第一张图片的嵌入Embedding进行转置。\n",
    "            2. 获得第二张图片的嵌入Embedding。\n",
    "            3. 两个向量相乘可以得到一个 shape=(n_dense_units, n_dense_untis) 的矩阵，然后再除以 batch_size\n",
    "\n",
    "        \"\"\"\n",
    "        return (tf.transpose(z_a_norm) @ z_b_norm) / self.batch_size\n",
    "\n",
    "    def call(self, z_a: tf.Tensor, z_b: tf.Tensor) -> tf.Tensor:\n",
    "        z_a_norm, z_b_norm = self.normalize(z_a), self.normalize(z_b)\n",
    "        c = self.cross_corr_matrix(z_a_norm, z_b_norm)\n",
    "        loss = self.cross_corr_matrix_loss(c)\n",
    "        return loss"
   ]
  },
  {
   "cell_type": "markdown",
   "metadata": {},
   "source": [
    "-----------"
   ]
  },
  {
   "cell_type": "markdown",
   "metadata": {},
   "source": [
    "## Barlow Twins' Model Architecture\n",
    "模型结构由两部分组成：\n",
    "* The encoder network, which is a resnet-34.\n",
    "* The projector network, which creates the model embeddings\n",
    "    * This consists of an MLP with 3 dense-batchnorm-relu layers.\n",
    "\n",
    "翻译：\n",
    "* 编码部分用 resnet-34\n",
    "* 映射层即Embedding层，3层附加Relu激活函数的全连接层。"
   ]
  },
  {
   "cell_type": "markdown",
   "metadata": {},
   "source": [
    "### Encoder"
   ]
  },
  {
   "cell_type": "code",
   "execution_count": 16,
   "metadata": {},
   "outputs": [],
   "source": [
    "class ResNet34:\n",
    "    \"\"\"Resnet34 class.\n",
    "    模型参考了以下链接\n",
    "        https://www.analyticsvidhya.com/blog/2021/08/how-to-code-your-resnet-from-scratch-in-tensorflow/#h2_2.\n",
    "        https://www.analyticsvidhya.com/blog/2021/08/how-to-code-your-resnet-from-scratch-in-tensorflow/#h2_2.\n",
    "    \"\"\"\n",
    "\n",
    "    def identity_block(self, x, filter):\n",
    "        x_skip = x\n",
    "        x = tf.keras.layers.Conv2D(filter, (3, 3), padding=\"same\")(x)\n",
    "        x = tf.keras.layers.BatchNormalization(axis=3)(x)\n",
    "        x = tf.keras.layers.Activation(\"relu\")(x)\n",
    "\n",
    "        x = tf.keras.layers.Conv2D(filter, (3, 3), padding=\"same\")(x)\n",
    "        x = tf.keras.layers.BatchNormalization(axis=3)(x)\n",
    "\n",
    "        x = tf.keras.layers.Add()([x, x_skip])\n",
    "        x = tf.keras.layers.Activation(\"relu\")(x)\n",
    "        return x\n",
    "\n",
    "    def convolutional_block(self, x, filter):\n",
    "        x_skip = x\n",
    "        x = tf.keras.layers.Conv2D(filter, (3, 3), padding=\"same\", strides=(2, 2))(x)\n",
    "        x = tf.keras.layers.BatchNormalization(axis=3)(x)\n",
    "        x = tf.keras.layers.Activation(\"relu\")(x)\n",
    "\n",
    "        x = tf.keras.layers.Conv2D(filter, (3, 3), padding=\"same\")(x)\n",
    "        x = tf.keras.layers.BatchNormalization(axis=3)(x)\n",
    "\n",
    "        x_skip = tf.keras.layers.Conv2D(filter, (1, 1), strides=(2, 2))(x_skip)\n",
    "\n",
    "        x = tf.keras.layers.Add()([x, x_skip])\n",
    "        x = tf.keras.layers.Activation(\"relu\")(x)\n",
    "        return x\n",
    "\n",
    "    def __call__(self, shape=(32, 32, 3)):\n",
    "\n",
    "        x_input = tf.keras.layers.Input(shape)\n",
    "        x = tf.keras.layers.ZeroPadding2D((3, 3))(x_input)\n",
    "\n",
    "        x = tf.keras.layers.Conv2D(64, kernel_size=7, strides=2, padding=\"same\")(x)\n",
    "        x = tf.keras.layers.BatchNormalization()(x)\n",
    "        x = tf.keras.layers.Activation(\"relu\")(x)\n",
    "        x = tf.keras.layers.MaxPool2D(pool_size=3, strides=2, padding=\"same\")(x)\n",
    "\n",
    "        block_layers = [3, 4, 6, 3]\n",
    "        filter_size = 64\n",
    "\n",
    "        for i in range(4):\n",
    "            if i == 0:\n",
    "                for j in range(block_layers[i]):\n",
    "                    x = self.identity_block(x, filter_size)\n",
    "            else:\n",
    "                filter_size = filter_size * 2\n",
    "                x = self.convolutional_block(x, filter_size)\n",
    "                for j in range(block_layers[i] - 1):\n",
    "                    x = self.identity_block(x, filter_size)\n",
    "        \n",
    "        x = tf.keras.layers.AveragePooling2D((2, 2), padding=\"same\")(x)\n",
    "        x = tf.keras.layers.Flatten()(x)\n",
    "        model = tf.keras.models.Model(inputs=x_input, outputs=x, name=\"ResNet34\")\n",
    "        return model"
   ]
  },
  {
   "cell_type": "markdown",
   "metadata": {},
   "source": [
    "### 整体模型"
   ]
  },
  {
   "cell_type": "code",
   "execution_count": 17,
   "metadata": {},
   "outputs": [],
   "source": [
    "def build_twin() -> keras.Model:\n",
    "    # number of dense neurons in the projector 映射层神经元个数\n",
    "    n_dense_neurons = 5000\n",
    "\n",
    "    # encoder network 编码层\n",
    "    resnet = ResNet34()()\n",
    "    last_layer = resnet.layers[-1].output\n",
    "\n",
    "    # intermediate layers of the projector network 映射层\n",
    "    n_layers = 2\n",
    "    for i in range(n_layers):\n",
    "        dense = tf.keras.layers.Dense(n_dense_neurons, name=f\"projector_dense_{i}\")\n",
    "        if i == 0:\n",
    "            x = dense(last_layer)\n",
    "        else:\n",
    "            x = dense(x)\n",
    "        x = tf.keras.layers.BatchNormalization(name=f\"projector_bn_{i}\")(x)\n",
    "        x = tf.keras.layers.ReLU(name=f\"projector_relu_{i}\")(x)\n",
    "\n",
    "    x = tf.keras.layers.Dense(n_dense_neurons, name=f\"projector_dense_{n_layers}\")(x)\n",
    "\n",
    "    model = keras.Model(resnet.input, x)\n",
    "    return model"
   ]
  },
  {
   "cell_type": "markdown",
   "metadata": {},
   "source": [
    "------------"
   ]
  },
  {
   "cell_type": "markdown",
   "metadata": {},
   "source": [
    "## Training Loop Model"
   ]
  },
  {
   "cell_type": "code",
   "execution_count": 18,
   "metadata": {},
   "outputs": [],
   "source": [
    "class BarlowModel(keras.Model):\n",
    "    def __init__(self):\n",
    "        super(BarlowModel, self).__init__()\n",
    "        self.model = build_twin()\n",
    "        self.loss_tracker = keras.metrics.Mean(name=\"loss\")\n",
    "\n",
    "    @property\n",
    "    def metrics(self):\n",
    "        return [self.loss_tracker]\n",
    "\n",
    "    def train_step(self, batch: tf.Tensor) -> tf.Tensor:\n",
    "        # get the two augmentations from the batch 从一个batch中获取两种增强结果\n",
    "        y_a, y_b = batch\n",
    "\n",
    "        with tf.GradientTape() as tape:\n",
    "            # get two versions of predictions 得到两个映射向量\n",
    "            z_a, z_b = self.model(y_a, training=True), self.model(y_b, training=True)\n",
    "            loss = self.loss(z_a, z_b)\n",
    "\n",
    "        grads_model = tape.gradient(loss, self.model.trainable_variables)\n",
    "\n",
    "        self.optimizer.apply_gradients(zip(grads_model, self.model.trainable_variables))\n",
    "        self.loss_tracker.update_state(loss)\n",
    "\n",
    "        return {\"loss\": self.loss_tracker.result()}"
   ]
  },
  {
   "cell_type": "markdown",
   "metadata": {},
   "source": [
    "-----------"
   ]
  },
  {
   "cell_type": "markdown",
   "metadata": {},
   "source": [
    "## Model Training\n",
    "* Used the LAMB optimizer, instead of ADAM or SGD.\n",
    "* Similar to the LARS optimizer used in the paper, and lets the model converge much faster than other methods.\n",
    "* Expected training time: 1 hour 30 min. Go and eat a snack or take a nap or something.\n",
    "\n",
    "\n",
    "翻译：\n",
    "* 使用LAMB优化器代替ADAM或SGD。\n",
    "* LAMB优化器类似于原文中的LARS优化器，同时要比其他优化器快很多。\n",
    "* 在博主的电脑上预计160个epoch耗时 1h+30mim，但我们这里只训练10次看看。"
   ]
  },
  {
   "cell_type": "code",
   "execution_count": null,
   "metadata": {},
   "outputs": [],
   "source": [
    "bm = BarlowModel()\n",
    "\n",
    "optimizer = tfa.optimizers.LAMB()\n",
    "loss = BarlowLoss(BATCH_SIZE)\n",
    "\n",
    "bm.compile(optimizer=optimizer, loss=loss)\n",
    "\n",
    "# Expected training time: 1 hours 30 min\n",
    "\n",
    "history = bm.fit(augment_versions, epochs=10)\n",
    "plt.plot(history.history[\"loss\"])\n",
    "plt.show()"
   ]
  },
  {
   "cell_type": "markdown",
   "metadata": {},
   "source": [
    "我电脑实在跑不动，故不作演示了。"
   ]
  },
  {
   "cell_type": "markdown",
   "metadata": {},
   "source": [
    "----------"
   ]
  },
  {
   "cell_type": "markdown",
   "metadata": {},
   "source": [
    "## Evaluation\n",
    "**Linear evaluation**: to evaluate the model's performance, we add a linear dense layer at the end and freeze the main model's weights, only letting the dense layer to be tuned. If the model actually learned something, then the accuracy would be significantly higher than random chance.  \n",
    "\n",
    "**Accuracy on CIFAR-10** : 64% for this notebook. This is much better than the 10% we get from random guessing.  \n",
    "\n",
    "翻译：\n",
    "**线性评估**：冻结模型权重并在末尾添加一个全连接层，只是微调全连接层。如果模型真的学到了数据集的特征，那么该准确率将显著高于10%（在CIFAR-10数据集上）。  \n",
    "\n",
    "**CIFAR-10准确率**：博主训练了160次后得到的准确率为64%。"
   ]
  },
  {
   "cell_type": "code",
   "execution_count": null,
   "metadata": {},
   "outputs": [],
   "source": [
    "# Approx: 64% accuracy with this barlow twins model.\n",
    "\n",
    "xy_ds = (\n",
    "    tf.data.Dataset.from_tensor_slices((train_features, train_labels))\n",
    "    .shuffle(1000)\n",
    "    .batch(BATCH_SIZE, drop_remainder=True)\n",
    "    .prefetch(tf.data.AUTOTUNE)\n",
    ")\n",
    "\n",
    "test_ds = (\n",
    "    tf.data.Dataset.from_tensor_slices((test_features, test_labels))\n",
    "    .shuffle(1000)\n",
    "    .batch(BATCH_SIZE, drop_remainder=True)\n",
    "    .prefetch(tf.data.AUTOTUNE)\n",
    ")\n",
    "\n",
    "model = keras.models.Sequential(\n",
    "    [\n",
    "        bm.model,\n",
    "        keras.layers.Dense(\n",
    "            10, activation=\"softmax\", kernel_regularizer=keras.regularizers.l2(0.02)\n",
    "        ),\n",
    "    ]\n",
    ")\n",
    "\n",
    "model.layers[0].trainable = False\n",
    "\n",
    "linear_optimizer = tfa.optimizers.LAMB()\n",
    "model.compile(\n",
    "    optimizer=linear_optimizer,\n",
    "    loss=\"sparse_categorical_crossentropy\",\n",
    "    metrics=[\"accuracy\"],\n",
    ")\n",
    "\n",
    "model.fit(xy_ds, epochs=35, validation_data=test_ds)"
   ]
  },
  {
   "cell_type": "markdown",
   "metadata": {},
   "source": [
    "----------"
   ]
  },
  {
   "cell_type": "markdown",
   "metadata": {},
   "source": [
    "## Conclusion\n",
    "* Barlow Twins is a simple and concise method for contrastive and self-supervised learning.\n",
    "* Barlow Twins 是一个非常简洁的对比学习和自监督学习算法。\n",
    "* With this resnet-34 model architecture, we were able to reach 62-64% validation accuracy.\n",
    "* 使用resnet-34结构的模型可以得到 62-64% 的验证准确率。"
   ]
  },
  {
   "cell_type": "markdown",
   "metadata": {},
   "source": [
    "--------"
   ]
  },
  {
   "cell_type": "markdown",
   "metadata": {},
   "source": [
    "## Use-Cases of Barlow-Twins(and contrastive learning in General)\n",
    "* Semi-supervised learning: You can see that this model gave a 62-64% boost in accuracy when it wasn't even trained with the labels. It can be used when you have little labeled data but a lot of unlabeled data.\n",
    "* 对于半监督学习而言，即使没有使用标签都可以达到62-64%的准确率，如果你的标签非常少（1:10）那么可以直接用自监督了。\n",
    "* You do barlow twins training on the unlabeled data, and then you do secondary training with the labeled data.\n",
    "* 如果你的标签数量还行，可以使用有标记的数据进行二次训练。"
   ]
  }
 ],
 "metadata": {
  "interpreter": {
   "hash": "b3ba2566441a7c06988d0923437866b63cedc61552a5af99d1f4fb67d367b25f"
  },
  "kernelspec": {
   "display_name": "Python 3.8.5 ('base')",
   "language": "python",
   "name": "python3"
  },
  "language_info": {
   "codemirror_mode": {
    "name": "ipython",
    "version": 3
   },
   "file_extension": ".py",
   "mimetype": "text/x-python",
   "name": "python",
   "nbconvert_exporter": "python",
   "pygments_lexer": "ipython3",
   "version": "3.8.5"
  },
  "orig_nbformat": 4
 },
 "nbformat": 4,
 "nbformat_minor": 2
}
