{
 "cells": [
  {
   "cell_type": "markdown",
   "metadata": {},
   "source": [
    "# Image classification from scratch\n",
    "### 从零开始的图像分类"
   ]
  },
  {
   "cell_type": "markdown",
   "metadata": {},
   "source": [
    "原始链接：https://keras.io/examples/vision/image_classification_from_scratch/"
   ]
  },
  {
   "cell_type": "markdown",
   "metadata": {},
   "source": [
    "## Note:  \n",
    "这是Keras Example中第一个计算机视觉样例，很多博主在引入Keras的时候会直接使用MNIST作为样本，并且代码总量能控制在30行以内，我其实是比较同意这种做法，因为“体验感”或者说是第一印象是非常重要的，我当初就是惊叹于Keras极简的代码风格后才开始使用。  \n",
    "\n",
    "为此，与其说这是Keras的零基础引入，不如说是在有基本概念后的中级教程，如果对Keras完全不了解的可以先在用“Keras MNIST”关键字搜索一个代码量在50行以内的例子学习下，然后再来看本例。  \n",
    "\n",
    "但这个案例实际上涵盖的内容非常丰富，对于想要进阶的读者来说是不可多得的好示例。"
   ]
  },
  {
   "cell_type": "markdown",
   "metadata": {},
   "source": [
    "## keyword funcations\n",
    "image_dataset_from_directory"
   ]
  },
  {
   "cell_type": "markdown",
   "metadata": {},
   "source": [
    "--------------------"
   ]
  },
  {
   "cell_type": "markdown",
   "metadata": {},
   "source": [
    "## Introduction\n",
    "This example shows how to do image classification from scratch, starting from JPEG image files on disk, without leveraging pre-trained weights or a pre-made Keras Application model. We demonstrate the workflow on the Kaggle Cats vs Dogs binary classification dataset.  \n",
    "这个例子展示了如何从零开始实现图像分类，从磁盘中读取JPEG的图像文件开始，而不是使用预训练好的模型或预制作好的应用。这里展示了Kaggle竞赛中**Cats vs Dogs**（猫狗大战）二分类数据集。\n",
    "\n",
    "We use the image_dataset_from_directory utility to generate the datasets, and we use Keras image preprocessing layers for image standardization and data augmentation.  \n",
    "使用**image_dataset_from_directory**函数来制作数据集，然后用Keras的图像预处理层进行标准化和增强。\n"
   ]
  },
  {
   "cell_type": "markdown",
   "metadata": {},
   "source": [
    "----------------"
   ]
  },
  {
   "cell_type": "code",
   "execution_count": 1,
   "metadata": {},
   "outputs": [],
   "source": [
    "import tensorflow as tf\n",
    "from tensorflow import keras\n",
    "from tensorflow.keras import layers"
   ]
  },
  {
   "cell_type": "markdown",
   "metadata": {},
   "source": [
    "------------"
   ]
  },
  {
   "cell_type": "markdown",
   "metadata": {},
   "source": [
    "## Load the data: the Cats vs Dogs dataset\n",
    "Raw data download  \n",
    "First, let's download the 786M ZIP archive of the raw data:  \n",
    "首先下载一个786 MB的zip原始文件。  \n",
    "在这里使用 “!”可以直接执行终端的命令，如果在Windows平台下无法使用curl命令的，可以根据以下链接进行操作：https://www.cnblogs.com/gered/p/10682298.html"
   ]
  },
  {
   "cell_type": "code",
   "execution_count": 3,
   "metadata": {},
   "outputs": [
    {
     "name": "stderr",
     "output_type": "stream",
     "text": [
      "  % Total    % Received % Xferd  Average Speed   Time    Time     Time  Current\n",
      "                                 Dload  Upload   Total   Spent    Left  Speed\n",
      "\n",
      "  0     0    0     0    0     0      0      0 --:--:-- --:--:-- --:--:--     0\n",
      "  0     0    0     0    0     0      0      0 --:--:-- --:--:-- --:--:--     0\n",
      "  0  786M    0 1743k    0     0  1354k      0  0:09:54  0:00:01  0:09:53 1354k\n",
      "  1  786M    1 8479k    0     0  3707k      0  0:03:37  0:00:02  0:03:35 3706k\n",
      "  1  786M    1 14.3M    0     0  4482k      0  0:02:59  0:00:03  0:02:56 4481k\n",
      "  2  786M    2 20.2M    0     0  4829k      0  0:02:46  0:00:04  0:02:42 4829k\n",
      "  3  786M    3 26.0M    0     0  5053k      0  0:02:39  0:00:05  0:02:34 5844k\n",
      "  4  786M    4 32.1M    0     0  5234k      0  0:02:33  0:00:06  0:02:27 6233k\n",
      "  4  786M    4 37.3M    0     0  5243k      0  0:02:33  0:00:07  0:02:26 5945k\n",
      "  5  786M    5 42.4M    0     0  5239k      0  0:02:33  0:00:08  0:02:25 5737k\n",
      "  6  786M    6 47.5M    0     0  5240k      0  0:02:33  0:00:09  0:02:24 5593k\n",
      "  6  786M    6 52.7M    0     0  5246k      0  0:02:33  0:00:10  0:02:23 5449k\n",
      "  7  786M    7 57.8M    0     0  5248k      0  0:02:33  0:00:11  0:02:22 5267k\n",
      "  8  786M    8 63.2M    0     0  5275k      0  0:02:32  0:00:12  0:02:20 5321k\n",
      "  8  786M    8 69.5M    0     0  5358k      0  0:02:30  0:00:13  0:02:17 5555k\n",
      "  9  786M    9 75.7M    0     0  5427k      0  0:02:28  0:00:14  0:02:14 5772k\n",
      " 10  786M   10 82.5M    0     0  5530k      0  0:02:25  0:00:15  0:02:10 6115k\n",
      " 11  786M   11 88.4M    0     0  5564k      0  0:02:24  0:00:16  0:02:08 6275k\n",
      " 11  786M   11 90.3M    0     0  5350k      0  0:02:30  0:00:17  0:02:13 5536k\n",
      " 12  786M   12 95.7M    0     0  5363k      0  0:02:30  0:00:18  0:02:12 5376k\n",
      " 12  786M   12  101M    0     0  5403k      0  0:02:29  0:00:19  0:02:10 5337k\n",
      " 13  786M   13  108M    0     0  5475k      0  0:02:27  0:00:20  0:02:07 5308k\n",
      " 14  786M   14  115M    0     0  5571k      0  0:02:24  0:00:21  0:02:03 5596k\n",
      " 15  786M   15  123M    0     0  5657k      0  0:02:22  0:00:22  0:02:00 6716k\n",
      " 16  786M   16  130M    0     0  5739k      0  0:02:20  0:00:23  0:01:57 7113k\n",
      " 17  786M   17  138M    0     0  5846k      0  0:02:17  0:00:24  0:01:53 7555k\n",
      " 18  786M   18  148M    0     0  5995k      0  0:02:14  0:00:25  0:01:49 8105k\n",
      " 20  786M   20  157M    0     0  6153k      0  0:02:10  0:00:26  0:01:44 8630k\n",
      " 21  786M   21  168M    0     0  6329k      0  0:02:07  0:00:27  0:01:40 9328k\n",
      " 22  786M   22  180M    0     0  6540k      0  0:02:03  0:00:28  0:01:35 10.0M\n",
      " 24  786M   24  193M    0     0  6782k      0  0:01:58  0:00:29  0:01:29 11.0M\n",
      " 26  786M   26  208M    0     0  7045k      0  0:01:54  0:00:30  0:01:24 12.0M\n",
      " 28  786M   28  223M    0     0  7328k      0  0:01:49  0:00:31  0:01:18 13.1M\n",
      " 30  786M   30  240M    0     0  7620k      0  0:01:45  0:00:32  0:01:13 14.3M\n",
      " 32  786M   32  256M    0     0  7893k      0  0:01:42  0:00:33  0:01:09 15.1M\n",
      " 34  786M   34  272M    0     0  8150k      0  0:01:38  0:00:34  0:01:04 15.7M\n",
      " 36  786M   36  289M    0     0  8396k      0  0:01:35  0:00:35  0:01:00 16.1M\n",
      " 38  786M   38  306M    0     0  8647k      0  0:01:33  0:00:36  0:00:57 16.5M\n",
      " 41  786M   41  324M    0     0  8917k      0  0:01:30  0:00:37  0:00:53 16.8M\n",
      " 43  786M   43  344M    0     0  9202k      0  0:01:27  0:00:38  0:00:49 17.5M\n",
      " 45  786M   45  361M    0     0  9397k      0  0:01:25  0:00:39  0:00:46 17.4M\n",
      " 48  786M   48  379M    0     0  9647k      0  0:01:23  0:00:40  0:00:43 18.0M\n",
      " 50  786M   50  399M    0     0  9911k      0  0:01:21  0:00:41  0:00:40 18.6M\n",
      " 53  786M   53  420M    0     0   9.9M      0  0:01:19  0:00:42  0:00:37 19.2M\n",
      " 56  786M   56  443M    0     0  10.2M      0  0:01:16  0:00:43  0:00:33 19.9M\n",
      " 58  786M   58  462M    0     0  10.4M      0  0:01:15  0:00:44  0:00:31 20.4M\n",
      " 59  786M   59  471M    0     0  10.4M      0  0:01:15  0:00:45  0:00:30 18.3M\n",
      " 61  786M   61  482M    0     0  10.4M      0  0:01:15  0:00:46  0:00:29 16.5M\n",
      " 62  786M   62  494M    0     0  10.4M      0  0:01:15  0:00:47  0:00:28 14.7M\n",
      " 64  786M   64  508M    0     0  10.5M      0  0:01:14  0:00:48  0:00:26 12.8M\n",
      " 66  786M   66  522M    0     0  10.6M      0  0:01:14  0:00:49  0:00:25 12.1M\n",
      " 68  786M   68  538M    0     0  10.7M      0  0:01:13  0:00:50  0:00:23 13.4M\n",
      " 70  786M   70  556M    0     0  10.8M      0  0:01:12  0:00:51  0:00:21 14.7M\n",
      " 73  786M   73  574M    0     0  10.9M      0  0:01:11  0:00:52  0:00:19 16.0M\n",
      " 75  786M   75  594M    0     0  11.1M      0  0:01:10  0:00:53  0:00:17 17.3M\n",
      " 77  786M   77  613M    0     0  11.2M      0  0:01:09  0:00:54  0:00:15 18.0M\n",
      " 80  786M   80  635M    0     0  11.4M      0  0:01:08  0:00:55  0:00:13 19.2M\n",
      " 83  786M   83  658M    0     0  11.6M      0  0:01:07  0:00:56  0:00:11 20.4M\n",
      " 86  786M   86  682M    0     0  11.9M      0  0:01:06  0:00:57  0:00:09 21.6M\n",
      " 89  786M   89  704M    0     0  12.0M      0  0:01:05  0:00:58  0:00:07 21.8M\n",
      " 92  786M   92  725M    0     0  12.2M      0  0:01:04  0:00:59  0:00:05 22.5M\n",
      " 94  786M   94  744M    0     0  12.3M      0  0:01:03  0:01:00  0:00:03 21.8M\n",
      " 97  786M   97  767M    0     0  12.5M      0  0:01:02  0:01:01  0:00:01 21.6M\n",
      "100  786M  100  786M    0     0  12.6M      0  0:01:02  0:01:02 --:--:-- 21.6M\n"
     ]
    }
   ],
   "source": [
    "!curl -O https://download.microsoft.com/download/3/E/1/3E1C3F21-ECDB-4869-8368-6DEBA77B919F/kagglecatsanddogs_3367a.zip"
   ]
  },
  {
   "cell_type": "markdown",
   "metadata": {},
   "source": [
    "使用unzip解压包，Windows平台下如果无法使用unzip命令，可以按照如下链接进行操作：https://www.cnblogs.com/gcgc/p/10613155.html"
   ]
  },
  {
   "cell_type": "code",
   "execution_count": 4,
   "metadata": {},
   "outputs": [
    {
     "name": "stdout",
     "output_type": "stream",
     "text": [
      "ImageClassificationFromScratch.ipynb\n",
      "MSR-LA - 3467.docx\n",
      "PetImages\n",
      "kagglecatsanddogs_3367a.zip\n",
      "readme[1].txt\n"
     ]
    }
   ],
   "source": [
    "!unzip -q kagglecatsanddogs_3367a.zip\n",
    "!ls"
   ]
  },
  {
   "cell_type": "markdown",
   "metadata": {},
   "source": []
  }
 ],
 "metadata": {
  "interpreter": {
   "hash": "b3ba2566441a7c06988d0923437866b63cedc61552a5af99d1f4fb67d367b25f"
  },
  "kernelspec": {
   "display_name": "Python 3.8.5 64-bit ('base': conda)",
   "language": "python",
   "name": "python3"
  },
  "language_info": {
   "codemirror_mode": {
    "name": "ipython",
    "version": 3
   },
   "file_extension": ".py",
   "mimetype": "text/x-python",
   "name": "python",
   "nbconvert_exporter": "python",
   "pygments_lexer": "ipython3",
   "version": "3.8.5"
  },
  "orig_nbformat": 4
 },
 "nbformat": 4,
 "nbformat_minor": 2
}
